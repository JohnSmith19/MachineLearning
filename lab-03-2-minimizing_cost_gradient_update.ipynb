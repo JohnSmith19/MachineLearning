{
 "cells": [
  {
   "cell_type": "code",
   "execution_count": 1,
   "metadata": {},
   "outputs": [],
   "source": [
    "import tensorflow as tf"
   ]
  },
  {
   "cell_type": "code",
   "execution_count": 2,
   "metadata": {},
   "outputs": [],
   "source": [
    "x_data = [1, 2, 3]\n",
    "y_data = [1, 2, 3]\n",
    "\n",
    "W = tf.Variable(tf.random_normal([1]), name='weight')\n",
    "X = tf.placeholder(tf.float32)\n",
    "Y = tf.placeholder(tf.float32)"
   ]
  },
  {
   "cell_type": "code",
   "execution_count": 4,
   "metadata": {},
   "outputs": [],
   "source": [
    "# Our hypothesis for linear model X * W\n",
    "hypothesis = X * W\n",
    "\n",
    "# cost/loss function\n",
    "cost = tf.reduce_sum(tf.square(hypothesis - Y))"
   ]
  },
  {
   "cell_type": "code",
   "execution_count": 5,
   "metadata": {},
   "outputs": [],
   "source": [
    "# Minimize: Gradient Descent using derivative: W -= learning_rate * derivative\n",
    "learning_rate = 0.1\n",
    "gradient = tf.reduce_mean((W *X - Y) * X)\n",
    "descent = W - learning_rate * gradient\n",
    "update = W.assign(descent)"
   ]
  },
  {
   "cell_type": "code",
   "execution_count": 8,
   "metadata": {},
   "outputs": [
    {
     "name": "stdout",
     "output_type": "stream",
     "text": [
      "0 1.6720893 [0.65440637]\n",
      "1 0.4756167 [0.81568336]\n",
      "2 0.13528651 [0.9016978]\n",
      "3 0.0384815 [0.9475722]\n",
      "4 0.0109458305 [0.9720385]\n",
      "5 0.0031134705 [0.9850872]\n",
      "6 0.0008856093 [0.99204654]\n",
      "7 0.00025189997 [0.9957582]\n",
      "8 7.165085e-05 [0.9977377]\n",
      "9 2.0381154e-05 [0.9987934]\n",
      "10 5.797143e-06 [0.9993565]\n",
      "11 1.6487959e-06 [0.9996568]\n",
      "12 4.6901556e-07 [0.99981695]\n",
      "13 1.333794e-07 [0.99990237]\n",
      "14 3.8030933e-08 [0.9999479]\n",
      "15 1.0820784e-08 [0.9999722]\n",
      "16 3.0590854e-09 [0.9999852]\n",
      "17 8.6663476e-10 [0.99999213]\n",
      "18 2.407461e-10 [0.9999958]\n",
      "19 7.021583e-11 [0.99999774]\n",
      "20 1.9895197e-11 [0.9999988]\n"
     ]
    }
   ],
   "source": [
    "# Launch the graph in a session\n",
    "sess = tf.Session()\n",
    "# Initializes global variables in the graph.\n",
    "sess.run(tf.global_variables_initializer())\n",
    "for step in range(21):\n",
    "    sess.run(update, feed_dict={X: x_data, Y: y_data})\n",
    "    print(step, sess.run(cost, feed_dict={X: x_data, Y: y_data}), sess.run(W))"
   ]
  },
  {
   "cell_type": "code",
   "execution_count": null,
   "metadata": {},
   "outputs": [],
   "source": []
  }
 ],
 "metadata": {
  "kernelspec": {
   "display_name": "tensorflow",
   "language": "python",
   "name": "tensorflow"
  },
  "language_info": {
   "codemirror_mode": {
    "name": "ipython",
    "version": 3
   },
   "file_extension": ".py",
   "mimetype": "text/x-python",
   "name": "python",
   "nbconvert_exporter": "python",
   "pygments_lexer": "ipython3",
   "version": "3.6.6"
  }
 },
 "nbformat": 4,
 "nbformat_minor": 2
}
